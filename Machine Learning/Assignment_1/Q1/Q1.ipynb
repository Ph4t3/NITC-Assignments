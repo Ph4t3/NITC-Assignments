{
  "nbformat": 4,
  "nbformat_minor": 0,
  "metadata": {
    "colab": {
      "name": "ML Assignment 1",
      "provenance": []
    },
    "kernelspec": {
      "name": "python3",
      "display_name": "Python 3"
    },
    "language_info": {
      "name": "python"
    }
  },
  "cells": [
    {
      "cell_type": "markdown",
      "metadata": {
        "id": "AAwWvofNF5qA"
      },
      "source": [
        "# Intial Configuration"
      ]
    },
    {
      "cell_type": "code",
      "metadata": {
        "id": "xjCUgWUMokDO"
      },
      "source": [
        "import numpy as np\n",
        "\n",
        "data = {\n",
        "    \"w1\": {\n",
        "        \"x1\": np.array([-5.01, -5.43, 1.08, 0.86, -2.67, 4.94, -2.51, -2.25, 5.56, 1.03]),\n",
        "        \"x2\": np.array([-8.12, -3.48, -5.52, -3.78, 0.63, 3.29, 2.09, -2.13, 2.86, -3.33]),\n",
        "        \"x3\": np.array([-3.68, -3.54, 1.66, -4.11, 7.39, 2.08, -2.59, -6.94, -2.26, 4.33])\n",
        "    },\n",
        "    \"w2\": {\n",
        "        \"x1\": np.array([-0.91, 1.30, -7.75, -5.47, 6.14, 3.60, 5.37, 7.18, -7.39, -7.50]),\n",
        "        \"x2\": np.array([-0.18, -2.06, -4.54, 0.50, 5.72, 1.26, -4.63, 1.46, 1.17, -6.32]),\n",
        "        \"x3\": np.array([-0.05, -3.53, -0.95, 3.92, -4.85, 4.36, -3.65, -6.66, 6.30, -0.31])\n",
        "    },\n",
        "    \"w3\": {\n",
        "        \"x1\": np.array([5.35, 5.12, -1.34, 4.48, 7.11, 7.17, 5.75, 0.77, 0.90, 3.52]),\n",
        "        \"x2\": np.array([2.26, 3.22, -5.31, 3.42, 2.39, 4.33, 3.97, 0.27, -0.43, -0.36]),\n",
        "        \"x3\": np.array([8.13, -2.66, -9.87, 5.19, 9.21, -0.98, 6.65, 2.41, -8.71, 6.43])\n",
        "    }\n",
        "}"
      ],
      "execution_count": 29,
      "outputs": []
    },
    {
      "cell_type": "markdown",
      "metadata": {
        "id": "U_SmRD68GAp4"
      },
      "source": [
        "# Question 1\n",
        "Write a function (in Python or any language of your choice) to calculate the\n",
        "discriminant function for the given normal density equation (as given below) and\n",
        "prior probabilities.\n",
        "\n",
        "$g_{i}(x) = \\frac{-1}{2}(x - \\mu_{i})^t\\Sigma_{i}^{-1}(x - \\mu_{i}) - \\frac{d}{2}ln2\\pi - \\frac{1}{2}ln|\\Sigma_{i}| + lnP(\\omega_{i})$"
      ]
    },
    {
      "cell_type": "code",
      "metadata": {
        "id": "pTEBHZCnRSQZ"
      },
      "source": [
        "def discriminant(x, mean, cov, prior):\n",
        "  cov_inv = np.linalg.inv(cov)\n",
        "  cov_det = np.linalg.det(cov)\n",
        "  d = len(mean)\n",
        "\n",
        "  p1 = -0.5*(x-mean).T.dot(cov_inv).dot(x - mean)\n",
        "  p2 = -0.5*d*np.log(2*np.pi)\n",
        "  p3 = -0.5*np.log(cov_det)\n",
        "  p4 = np.log(prior)\n",
        "\n",
        "  return p1 + p2 + p3 + p4"
      ],
      "execution_count": 30,
      "outputs": []
    }
  ]
}