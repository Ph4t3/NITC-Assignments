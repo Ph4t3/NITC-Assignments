{
  "nbformat": 4,
  "nbformat_minor": 0,
  "metadata": {
    "colab": {
      "name": "ML Assignment 1",
      "provenance": []
    },
    "kernelspec": {
      "name": "python3",
      "display_name": "Python 3"
    },
    "language_info": {
      "name": "python"
    }
  },
  "cells": [
    {
      "cell_type": "markdown",
      "metadata": {
        "id": "AAwWvofNF5qA"
      },
      "source": [
        "# Intial Configuration"
      ]
    },
    {
      "cell_type": "code",
      "metadata": {
        "id": "xjCUgWUMokDO"
      },
      "source": [
        "import numpy as np\n",
        "\n",
        "data = {\n",
        "    \"w1\": {\n",
        "        \"x1\": np.array([-5.01, -5.43, 1.08, 0.86, -2.67, 4.94, -2.51, -2.25, 5.56, 1.03]),\n",
        "        \"x2\": np.array([-8.12, -3.48, -5.52, -3.78, 0.63, 3.29, 2.09, -2.13, 2.86, -3.33]),\n",
        "        \"x3\": np.array([-3.68, -3.54, 1.66, -4.11, 7.39, 2.08, -2.59, -6.94, -2.26, 4.33])\n",
        "    },\n",
        "    \"w2\": {\n",
        "        \"x1\": np.array([-0.91, 1.30, -7.75, -5.47, 6.14, 3.60, 5.37, 7.18, -7.39, -7.50]),\n",
        "        \"x2\": np.array([-0.18, -2.06, -4.54, 0.50, 5.72, 1.26, -4.63, 1.46, 1.17, -6.32]),\n",
        "        \"x3\": np.array([-0.05, -3.53, -0.95, 3.92, -4.85, 4.36, -3.65, -6.66, 6.30, -0.31])\n",
        "    },\n",
        "    \"w3\": {\n",
        "        \"x1\": np.array([5.35, 5.12, -1.34, 4.48, 7.11, 7.17, 5.75, 0.77, 0.90, 3.52]),\n",
        "        \"x2\": np.array([2.26, 3.22, -5.31, 3.42, 2.39, 4.33, 3.97, 0.27, -0.43, -0.36]),\n",
        "        \"x3\": np.array([8.13, -2.66, -9.87, 5.19, 9.21, -0.98, 6.65, 2.41, -8.71, 6.43])\n",
        "    }\n",
        "}"
      ],
      "execution_count": 77,
      "outputs": []
    },
    {
      "cell_type": "markdown",
      "metadata": {
        "id": "JC3w8rG5HQGR"
      },
      "source": [
        "# Question 2\n",
        "Consider the problem of classifying 10 samples from the above table of data.\n",
        "Assume the that the underlying distributions are normal. \n",
        "\n",
        "Setting up a Dichotomizer class that uses the above discriminant function and some data to output dichotomizers that is used in the upcoming questions."
      ]
    },
    {
      "cell_type": "code",
      "metadata": {
        "id": "kor10X7idiAu"
      },
      "source": [
        "# A class that returns a dichotomizer by using the given data\n",
        "class Dichotomizer():\n",
        "  def __init__(self, category1, category2, prior):\n",
        "    self.d = len(category1)\n",
        "    \n",
        "    self.cat1 = {\n",
        "      \"mean\": np.mean(category1, axis=1).reshape((self.d, 1)),\n",
        "      \"cov\": np.cov(category1).reshape(self.d, self.d)\n",
        "    }\n",
        "\n",
        "    self.cat2 = {\n",
        "      \"mean\": np.mean(category2, axis=1).reshape((self.d, 1)),\n",
        "      \"cov\": np.cov(category2).reshape(self.d, self.d)\n",
        "    }\n",
        "\n",
        "    self.prior = prior\n",
        "  \n",
        "  def __call__(self, x):\n",
        "    a = self.discriminant(x, self.cat1[\"mean\"], self.cat1[\"cov\"], self.prior[0])\n",
        "    b = self.discriminant(x, self.cat2[\"mean\"], self.cat2[\"cov\"], self.prior[1])\n",
        "    return \"w1\" if a > b else \"w2\"\n",
        "\n",
        "  def discriminant(self, x, mean, cov, prior):\n",
        "    cov_inv = np.linalg.inv(cov)\n",
        "    cov_det = np.linalg.det(cov)\n",
        "    d = len(mean)\n",
        "  \n",
        "    p1 = -0.5*(x-mean).T.dot(cov_inv).dot(x - mean)\n",
        "    p2 = -0.5*d*np.log(2*np.pi)\n",
        "    p3 = -0.5*np.log(cov_det)\n",
        "    p4 = np.log(prior)\n",
        "  \n",
        "    return p1 + p2 + p3 + p4"
      ],
      "execution_count": 79,
      "outputs": []
    },
    {
      "cell_type": "markdown",
      "metadata": {
        "id": "bSeKkDC6Hpf2"
      },
      "source": [
        "# Question 2.a\n",
        "Assume the prior probabilities of the first two categories are equal and is equal\n",
        "to 1/2 and that of the third category is zero. Design a dichotomizer for those two\n",
        "categories using the feature x1 alone."
      ]
    },
    {
      "cell_type": "code",
      "metadata": {
        "id": "jrza8PQsz28R"
      },
      "source": [
        "dichotomizer1 = Dichotomizer([data[\"w1\"][\"x1\"]], [data[\"w2\"][\"x1\"]], [1/2, 1/2])"
      ],
      "execution_count": 80,
      "outputs": []
    },
    {
      "cell_type": "markdown",
      "metadata": {
        "id": "EOrn8YxUIU1w"
      },
      "source": [
        "# Question 2.b\n",
        "Determine the percentage of points misclassified."
      ]
    },
    {
      "cell_type": "code",
      "metadata": {
        "colab": {
          "base_uri": "https://localhost:8080/"
        },
        "id": "4kHFpBwEI84m",
        "outputId": "1aec57c6-85db-456f-c8d4-973b9d573579"
      },
      "source": [
        "# Utility function to classify for different features\n",
        "# Useful for upcoming questions\n",
        "def classify(d, dichotomizer, data = data):\n",
        "  features = [f\"x{x+1}\" for x in list(range(d))]\n",
        "  print(\"Using Features:\", ','.join(features))\n",
        "  print('='*20)\n",
        "  overall = 0\n",
        "\n",
        "  for cls in data:\n",
        "    print(\"\\nClass\", cls)\n",
        "    print('='*50)\n",
        "    correct = 0\n",
        "\n",
        "    for i in range(len(data[cls][\"x1\"])):\n",
        "      point = [data[cls][\"x1\"][i], data[cls][\"x2\"][i], data[cls][\"x3\"][i]]\n",
        "      selectFeatures = np.array([point[0:d]]).T\n",
        "      res = dichotomizer(selectFeatures)\n",
        "\n",
        "      if res == cls:\n",
        "        correct += 1\n",
        "\n",
        "      print(\"Point\", point, \"\\tis classified as Class \", res)\n",
        "\n",
        "    overall += 100 - correct*10\n",
        "    print(f\"\\nPercentage of points missclassified: {100 - correct*10} %\")\n",
        "\n",
        "  print(\"\\n\" + '='*50)\n",
        "  print(f\"Overall Percantage missclassified: {np.round(overall/3, 2)}%\")\n",
        "  print('='*50)\n",
        "\n",
        "classify(1, dichotomizer1)"
      ],
      "execution_count": 81,
      "outputs": [
        {
          "output_type": "stream",
          "name": "stdout",
          "text": [
            "Using Features: x1\n",
            "====================\n",
            "\n",
            "Class w1\n",
            "==================================================\n",
            "Point [-5.01, -8.12, -3.68] \tis classified as Class  w1\n",
            "Point [-5.43, -3.48, -3.54] \tis classified as Class  w2\n",
            "Point [1.08, -5.52, 1.66] \tis classified as Class  w1\n",
            "Point [0.86, -3.78, -4.11] \tis classified as Class  w1\n",
            "Point [-2.67, 0.63, 7.39] \tis classified as Class  w1\n",
            "Point [4.94, 3.29, 2.08] \tis classified as Class  w2\n",
            "Point [-2.51, 2.09, -2.59] \tis classified as Class  w1\n",
            "Point [-2.25, -2.13, -6.94] \tis classified as Class  w1\n",
            "Point [5.56, 2.86, -2.26] \tis classified as Class  w2\n",
            "Point [1.03, -3.33, 4.33] \tis classified as Class  w1\n",
            "\n",
            "Percentage of points missclassified: 30 %\n",
            "\n",
            "Class w2\n",
            "==================================================\n",
            "Point [-0.91, -0.18, -0.05] \tis classified as Class  w1\n",
            "Point [1.3, -2.06, -3.53] \tis classified as Class  w1\n",
            "Point [-7.75, -4.54, -0.95] \tis classified as Class  w2\n",
            "Point [-5.47, 0.5, 3.92] \tis classified as Class  w2\n",
            "Point [6.14, 5.72, -4.85] \tis classified as Class  w2\n",
            "Point [3.6, 1.26, 4.36] \tis classified as Class  w1\n",
            "Point [5.37, -4.63, -3.65] \tis classified as Class  w2\n",
            "Point [7.18, 1.46, -6.66] \tis classified as Class  w2\n",
            "Point [-7.39, 1.17, 6.3] \tis classified as Class  w2\n",
            "Point [-7.5, -6.32, -0.31] \tis classified as Class  w2\n",
            "\n",
            "Percentage of points missclassified: 30 %\n",
            "\n",
            "Class w3\n",
            "==================================================\n",
            "Point [5.35, 2.26, 8.13] \tis classified as Class  w2\n",
            "Point [5.12, 3.22, -2.66] \tis classified as Class  w2\n",
            "Point [-1.34, -5.31, -9.87] \tis classified as Class  w1\n",
            "Point [4.48, 3.42, 5.19] \tis classified as Class  w2\n",
            "Point [7.11, 2.39, 9.21] \tis classified as Class  w2\n",
            "Point [7.17, 4.33, -0.98] \tis classified as Class  w2\n",
            "Point [5.75, 3.97, 6.65] \tis classified as Class  w2\n",
            "Point [0.77, 0.27, 2.41] \tis classified as Class  w1\n",
            "Point [0.9, -0.43, -8.71] \tis classified as Class  w1\n",
            "Point [3.52, -0.36, 6.43] \tis classified as Class  w1\n",
            "\n",
            "Percentage of points missclassified: 100 %\n",
            "\n",
            "==================================================\n",
            "Overall Percantage missclassified: 53.33%\n",
            "==================================================\n"
          ]
        }
      ]
    },
    {
      "cell_type": "markdown",
      "metadata": {
        "id": "G8T6kotst1Ev"
      },
      "source": [
        "# Question 2.b\n",
        "Repeat the above two steps, but now use the two features x1 and x2."
      ]
    },
    {
      "cell_type": "code",
      "metadata": {
        "colab": {
          "base_uri": "https://localhost:8080/"
        },
        "id": "B8IHP-3Di2Jv",
        "outputId": "a82d29ef-d816-48fe-89bc-6ac13328f0c7"
      },
      "source": [
        "dichotomizer2 = Dichotomizer(\n",
        "    [data[\"w1\"][\"x1\"], data[\"w1\"][\"x2\"]],\n",
        "    [data[\"w2\"][\"x1\"], data[\"w2\"][\"x2\"]],\n",
        "    [1/2, 1/2]\n",
        "    )\n",
        "\n",
        "classify(2, dichotomizer2)"
      ],
      "execution_count": 82,
      "outputs": [
        {
          "output_type": "stream",
          "name": "stdout",
          "text": [
            "Using Features: x1,x2\n",
            "====================\n",
            "\n",
            "Class w1\n",
            "==================================================\n",
            "Point [-5.01, -8.12, -3.68] \tis classified as Class  w1\n",
            "Point [-5.43, -3.48, -3.54] \tis classified as Class  w2\n",
            "Point [1.08, -5.52, 1.66] \tis classified as Class  w1\n",
            "Point [0.86, -3.78, -4.11] \tis classified as Class  w1\n",
            "Point [-2.67, 0.63, 7.39] \tis classified as Class  w2\n",
            "Point [4.94, 3.29, 2.08] \tis classified as Class  w2\n",
            "Point [-2.51, 2.09, -2.59] \tis classified as Class  w2\n",
            "Point [-2.25, -2.13, -6.94] \tis classified as Class  w1\n",
            "Point [5.56, 2.86, -2.26] \tis classified as Class  w2\n",
            "Point [1.03, -3.33, 4.33] \tis classified as Class  w1\n",
            "\n",
            "Percentage of points missclassified: 50 %\n",
            "\n",
            "Class w2\n",
            "==================================================\n",
            "Point [-0.91, -0.18, -0.05] \tis classified as Class  w1\n",
            "Point [1.3, -2.06, -3.53] \tis classified as Class  w1\n",
            "Point [-7.75, -4.54, -0.95] \tis classified as Class  w2\n",
            "Point [-5.47, 0.5, 3.92] \tis classified as Class  w2\n",
            "Point [6.14, 5.72, -4.85] \tis classified as Class  w2\n",
            "Point [3.6, 1.26, 4.36] \tis classified as Class  w1\n",
            "Point [5.37, -4.63, -3.65] \tis classified as Class  w2\n",
            "Point [7.18, 1.46, -6.66] \tis classified as Class  w2\n",
            "Point [-7.39, 1.17, 6.3] \tis classified as Class  w2\n",
            "Point [-7.5, -6.32, -0.31] \tis classified as Class  w1\n",
            "\n",
            "Percentage of points missclassified: 40 %\n",
            "\n",
            "Class w3\n",
            "==================================================\n",
            "Point [5.35, 2.26, 8.13] \tis classified as Class  w2\n",
            "Point [5.12, 3.22, -2.66] \tis classified as Class  w2\n",
            "Point [-1.34, -5.31, -9.87] \tis classified as Class  w1\n",
            "Point [4.48, 3.42, 5.19] \tis classified as Class  w1\n",
            "Point [7.11, 2.39, 9.21] \tis classified as Class  w2\n",
            "Point [7.17, 4.33, -0.98] \tis classified as Class  w2\n",
            "Point [5.75, 3.97, 6.65] \tis classified as Class  w2\n",
            "Point [0.77, 0.27, 2.41] \tis classified as Class  w1\n",
            "Point [0.9, -0.43, -8.71] \tis classified as Class  w1\n",
            "Point [3.52, -0.36, 6.43] \tis classified as Class  w1\n",
            "\n",
            "Percentage of points missclassified: 100 %\n",
            "\n",
            "==================================================\n",
            "Overall Percantage missclassified: 63.33%\n",
            "==================================================\n"
          ]
        }
      ]
    },
    {
      "cell_type": "markdown",
      "metadata": {
        "id": "LZ0HGzv9wagG"
      },
      "source": [
        "# Question 2.d\n",
        "Repeat again, with all the three features taken."
      ]
    },
    {
      "cell_type": "code",
      "metadata": {
        "colab": {
          "base_uri": "https://localhost:8080/"
        },
        "id": "bmIHBm0Wv9G8",
        "outputId": "b789bece-ce9a-49c8-b832-243b9282e6e6"
      },
      "source": [
        "dichotomizer3 = Dichotomizer(\n",
        "    [data[\"w1\"][\"x1\"], data[\"w1\"][\"x2\"], data[\"w1\"][\"x3\"]],\n",
        "    [data[\"w2\"][\"x1\"], data[\"w2\"][\"x2\"], data[\"w2\"][\"x3\"]],\n",
        "    [1/2, 1/2]\n",
        "    )\n",
        "classify(3, dichotomizer3)"
      ],
      "execution_count": 83,
      "outputs": [
        {
          "output_type": "stream",
          "name": "stdout",
          "text": [
            "Using Features: x1,x2,x3\n",
            "====================\n",
            "\n",
            "Class w1\n",
            "==================================================\n",
            "Point [-5.01, -8.12, -3.68] \tis classified as Class  w1\n",
            "Point [-5.43, -3.48, -3.54] \tis classified as Class  w1\n",
            "Point [1.08, -5.52, 1.66] \tis classified as Class  w1\n",
            "Point [0.86, -3.78, -4.11] \tis classified as Class  w1\n",
            "Point [-2.67, 0.63, 7.39] \tis classified as Class  w2\n",
            "Point [4.94, 3.29, 2.08] \tis classified as Class  w1\n",
            "Point [-2.51, 2.09, -2.59] \tis classified as Class  w1\n",
            "Point [-2.25, -2.13, -6.94] \tis classified as Class  w1\n",
            "Point [5.56, 2.86, -2.26] \tis classified as Class  w2\n",
            "Point [1.03, -3.33, 4.33] \tis classified as Class  w1\n",
            "\n",
            "Percentage of points missclassified: 20 %\n",
            "\n",
            "Class w2\n",
            "==================================================\n",
            "Point [-0.91, -0.18, -0.05] \tis classified as Class  w2\n",
            "Point [1.3, -2.06, -3.53] \tis classified as Class  w2\n",
            "Point [-7.75, -4.54, -0.95] \tis classified as Class  w2\n",
            "Point [-5.47, 0.5, 3.92] \tis classified as Class  w2\n",
            "Point [6.14, 5.72, -4.85] \tis classified as Class  w2\n",
            "Point [3.6, 1.26, 4.36] \tis classified as Class  w1\n",
            "Point [5.37, -4.63, -3.65] \tis classified as Class  w2\n",
            "Point [7.18, 1.46, -6.66] \tis classified as Class  w2\n",
            "Point [-7.39, 1.17, 6.3] \tis classified as Class  w2\n",
            "Point [-7.5, -6.32, -0.31] \tis classified as Class  w2\n",
            "\n",
            "Percentage of points missclassified: 10 %\n",
            "\n",
            "Class w3\n",
            "==================================================\n",
            "Point [5.35, 2.26, 8.13] \tis classified as Class  w1\n",
            "Point [5.12, 3.22, -2.66] \tis classified as Class  w2\n",
            "Point [-1.34, -5.31, -9.87] \tis classified as Class  w1\n",
            "Point [4.48, 3.42, 5.19] \tis classified as Class  w1\n",
            "Point [7.11, 2.39, 9.21] \tis classified as Class  w1\n",
            "Point [7.17, 4.33, -0.98] \tis classified as Class  w2\n",
            "Point [5.75, 3.97, 6.65] \tis classified as Class  w1\n",
            "Point [0.77, 0.27, 2.41] \tis classified as Class  w1\n",
            "Point [0.9, -0.43, -8.71] \tis classified as Class  w1\n",
            "Point [3.52, -0.36, 6.43] \tis classified as Class  w1\n",
            "\n",
            "Percentage of points missclassified: 100 %\n",
            "\n",
            "==================================================\n",
            "Overall Percantage missclassified: 43.33%\n",
            "==================================================\n"
          ]
        }
      ]
    },
    {
      "cell_type": "markdown",
      "metadata": {
        "id": "j1K2JdUUwg9j"
      },
      "source": [
        "# Question 2.e\n",
        "Compare your results and conclude.\n",
        "\n",
        "- With only feature x1 selected, the misclassification rate was 53.33%\n",
        "- Misclassification rate was increased to 63.33% when both feature x1 and x2 was taken\n",
        "- Misclassification rate was decreased to 43.33% when all the features were taken\n",
        "- We can conclude that feature selection is an important part in classification\n",
        "- The best features can be selected by comparing the covariance"
      ]
    },
    {
      "cell_type": "markdown",
      "metadata": {
        "id": "bS3NXgxqxyw5"
      },
      "source": [
        "# Question 2.f\n",
        "Classify the points (1,2,1)t,, (5,3,2)t\n",
        ", (0,0,0)t\n",
        ", (1,0,0)t using each feature vector\n",
        "mentioned above and compare the results"
      ]
    },
    {
      "cell_type": "code",
      "metadata": {
        "colab": {
          "base_uri": "https://localhost:8080/"
        },
        "id": "M_vxPYp7x3CL",
        "outputId": "c47e56de-bccc-4850-d8a0-0f35e33966e4"
      },
      "source": [
        "points = [[1,2,1], [5,3,2], [0,0,0], [1,0,0]]\n",
        "\n",
        "dichotomizers = [dichotomizer1, dichotomizer2, dichotomizer3]\n",
        "outputs = {}\n",
        "for point in points:\n",
        "  for i in range(3):\n",
        "    key = \",\".join(map(str, point))\n",
        "    selectFeatures = np.array([point[0:i+1]]).T\n",
        "    cls = dichotomizers[i](selectFeatures)\n",
        "    if ( key in outputs):\n",
        "      outputs[key].append(f\"Class {cls}\")\n",
        "    else:\n",
        "      outputs[key] = [f\"Class {cls}\"]\n",
        "\n",
        "print(\"Points\\t\\tOnly x1\\t\\tx1, x2\\t\\tx1, x2, x3\")\n",
        "print('='*60)\n",
        "for key, value in outputs.items():\n",
        "  print(\"{}\\t\\t{}\".format(key, \"\\t\".join(value)))"
      ],
      "execution_count": 84,
      "outputs": [
        {
          "output_type": "stream",
          "name": "stdout",
          "text": [
            "Points\t\tOnly x1\t\tx1, x2\t\tx1, x2, x3\n",
            "============================================================\n",
            "1,2,1\t\tClass w1\tClass w1\tClass w2\n",
            "5,3,2\t\tClass w2\tClass w2\tClass w1\n",
            "0,0,0\t\tClass w1\tClass w1\tClass w1\n",
            "1,0,0\t\tClass w1\tClass w1\tClass w1\n"
          ]
        }
      ]
    }
  ]
}